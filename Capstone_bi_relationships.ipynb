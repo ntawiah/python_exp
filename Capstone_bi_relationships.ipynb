{
 "cells": [
  {
   "cell_type": "code",
   "execution_count": 11,
   "metadata": {
    "collapsed": true
   },
   "outputs": [],
   "source": [
    "%matplotlib inline"
   ]
  },
  {
   "cell_type": "markdown",
   "metadata": {
    "collapsed": true
   },
   "source": [
    "#Imports"
   ]
  },
  {
   "cell_type": "code",
   "execution_count": 12,
   "metadata": {
    "collapsed": true
   },
   "outputs": [],
   "source": [
    "import glob\n",
    "import csv\n",
    "import pandas as pd\n",
    "import numpy as np\n",
    "import os\n",
    "import matplotlib as mpl\n",
    "import matplotlib.pyplot as plt"
   ]
  },
  {
   "cell_type": "markdown",
   "metadata": {
    "collapsed": true
   },
   "source": [
    "##Import visualization models"
   ]
  },
  {
   "cell_type": "code",
   "execution_count": 13,
   "metadata": {
    "collapsed": true
   },
   "outputs": [],
   "source": [
    "from pandas.plotting import scatter_matrix\n",
    "import seaborn as sns\n",
    "sns.set(style=\"whitegrid\", color_codes=True)"
   ]
  },
  {
   "cell_type": "markdown",
   "metadata": {
    "collapsed": true
   },
   "source": [
    "##Upload data set"
   ]
  },
  {
   "cell_type": "code",
   "execution_count": 14,
   "metadata": {
    "collapsed": true
   },
   "outputs": [],
   "source": [
    "C_csvfiles = glob.glob('C:\\\\Users\\\\ntawi\\\\Desktop\\\\C_csvfiles\\\\*.csv')\n",
    "write_file = csv.writer(open('C:\\\\Users\\\\ntawi\\\\Desktop\\\\C_csvfiles\\\\output.csv','wb'), delimiter = ',')"
   ]
  },
  {
   "cell_type": "markdown",
   "metadata": {
    "collapsed": true
   },
   "source": [
    "##Open output"
   ]
  },
  {
   "cell_type": "code",
   "execution_count": 15,
   "metadata": {},
   "outputs": [
    {
     "name": "stdout",
     "output_type": "stream",
     "text": [
      "C:\\Users\\ntawi\\Desktop\\C_csvfiles\\output.csv\n",
      "C:\\Users\\ntawi\\Desktop\\C_csvfiles\\sect05_com_w3.csv\n",
      "C:\\Users\\ntawi\\Desktop\\C_csvfiles\\sect10_ph_w3.csv\n",
      "C:\\Users\\ntawi\\Desktop\\C_csvfiles\\sect11_ph_w3.csv\n",
      "C:\\Users\\ntawi\\Desktop\\C_csvfiles\\sect12_ph_w3.csv\n",
      "C:\\Users\\ntawi\\Desktop\\C_csvfiles\\sect1_hh_w3.csv\n",
      "C:\\Users\\ntawi\\Desktop\\C_csvfiles\\sect2_hh_w3.csv\n",
      "C:\\Users\\ntawi\\Desktop\\C_csvfiles\\sect3_hh_w3.csv\n",
      "C:\\Users\\ntawi\\Desktop\\C_csvfiles\\sect3_pp_w3.csv\n",
      "C:\\Users\\ntawi\\Desktop\\C_csvfiles\\sect4_hh_w3.csv\n",
      "C:\\Users\\ntawi\\Desktop\\C_csvfiles\\sect4_pp_w3.csv\n",
      "C:\\Users\\ntawi\\Desktop\\C_csvfiles\\sect5_pp_w3.csv\n",
      "C:\\Users\\ntawi\\Desktop\\C_csvfiles\\sect7_hh_w3.csv\n",
      "C:\\Users\\ntawi\\Desktop\\C_csvfiles\\sect7_pp_w3.csv\n",
      "C:\\Users\\ntawi\\Desktop\\C_csvfiles\\sect9_ph_w3.csv\n",
      "C:\\Users\\ntawi\\Desktop\\C_csvfiles\\wrangled_dataset.csv\n"
     ]
    }
   ],
   "source": [
    "for files in C_csvfiles:\n",
    "    print (files)"
   ]
  },
  {
   "cell_type": "markdown",
   "metadata": {
    "collapsed": true
   },
   "source": [
    "##Read csv files"
   ]
  },
  {
   "cell_type": "code",
   "execution_count": 16,
   "metadata": {
    "collapsed": true
   },
   "outputs": [],
   "source": [
    "rd = csv.reader(open(files, 'r'), delimiter = ',')"
   ]
  },
  {
   "cell_type": "markdown",
   "metadata": {
    "collapsed": true
   },
   "source": [
    "##Print csv files"
   ]
  },
  {
   "cell_type": "code",
   "execution_count": 17,
   "metadata": {},
   "outputs": [
    {
     "name": "stdout",
     "output_type": "stream",
     "text": [
      "<_csv.reader object at 0x0000022AD5541E80>\n"
     ]
    }
   ],
   "source": [
    "print(rd)"
   ]
  },
  {
   "cell_type": "markdown",
   "metadata": {
    "collapsed": true
   },
   "source": [
    "##Select specific columns "
   ]
  },
  {
   "cell_type": "code",
   "execution_count": 18,
   "metadata": {},
   "outputs": [
    {
     "data": {
      "text/html": [
       "<div>\n",
       "<style>\n",
       "    .dataframe thead tr:only-child th {\n",
       "        text-align: right;\n",
       "    }\n",
       "\n",
       "    .dataframe thead th {\n",
       "        text-align: left;\n",
       "    }\n",
       "\n",
       "    .dataframe tbody tr th {\n",
       "        vertical-align: top;\n",
       "    }\n",
       "</style>\n",
       "<table border=\"1\" class=\"dataframe\">\n",
       "  <thead>\n",
       "    <tr style=\"text-align: right;\">\n",
       "      <th></th>\n",
       "      <th>household_id2</th>\n",
       "      <th>individual_id2</th>\n",
       "      <th>saq01</th>\n",
       "      <th>hh_s1q02</th>\n",
       "      <th>hh_s1q03</th>\n",
       "      <th>hh_s1q04a</th>\n",
       "      <th>hh_s1q04b</th>\n",
       "      <th>hh_s1q04h</th>\n",
       "      <th>hh_s1q05</th>\n",
       "    </tr>\n",
       "  </thead>\n",
       "  <tbody>\n",
       "    <tr>\n",
       "      <th>0</th>\n",
       "      <td>10101088801601002</td>\n",
       "      <td>1.010109e+18</td>\n",
       "      <td>1</td>\n",
       "      <td>1.0</td>\n",
       "      <td>2.0</td>\n",
       "      <td>79.0</td>\n",
       "      <td>NaN</td>\n",
       "      <td>NaN</td>\n",
       "      <td>0.0</td>\n",
       "    </tr>\n",
       "    <tr>\n",
       "      <th>1</th>\n",
       "      <td>10101088801601002</td>\n",
       "      <td>1.010109e+18</td>\n",
       "      <td>1</td>\n",
       "      <td>NaN</td>\n",
       "      <td>NaN</td>\n",
       "      <td>NaN</td>\n",
       "      <td>NaN</td>\n",
       "      <td>NaN</td>\n",
       "      <td>NaN</td>\n",
       "    </tr>\n",
       "    <tr>\n",
       "      <th>2</th>\n",
       "      <td>10101088801601002</td>\n",
       "      <td>1.010109e+18</td>\n",
       "      <td>1</td>\n",
       "      <td>NaN</td>\n",
       "      <td>NaN</td>\n",
       "      <td>NaN</td>\n",
       "      <td>NaN</td>\n",
       "      <td>NaN</td>\n",
       "      <td>NaN</td>\n",
       "    </tr>\n",
       "    <tr>\n",
       "      <th>3</th>\n",
       "      <td>10101088801601002</td>\n",
       "      <td>1.010109e+18</td>\n",
       "      <td>1</td>\n",
       "      <td>NaN</td>\n",
       "      <td>NaN</td>\n",
       "      <td>NaN</td>\n",
       "      <td>NaN</td>\n",
       "      <td>NaN</td>\n",
       "      <td>NaN</td>\n",
       "    </tr>\n",
       "    <tr>\n",
       "      <th>4</th>\n",
       "      <td>10101088801601002</td>\n",
       "      <td>1.010109e+18</td>\n",
       "      <td>1</td>\n",
       "      <td>NaN</td>\n",
       "      <td>NaN</td>\n",
       "      <td>NaN</td>\n",
       "      <td>NaN</td>\n",
       "      <td>NaN</td>\n",
       "      <td>NaN</td>\n",
       "    </tr>\n",
       "  </tbody>\n",
       "</table>\n",
       "</div>"
      ],
      "text/plain": [
       "       household_id2  individual_id2  saq01  hh_s1q02  hh_s1q03  hh_s1q04a  \\\n",
       "0  10101088801601002    1.010109e+18      1       1.0       2.0       79.0   \n",
       "1  10101088801601002    1.010109e+18      1       NaN       NaN        NaN   \n",
       "2  10101088801601002    1.010109e+18      1       NaN       NaN        NaN   \n",
       "3  10101088801601002    1.010109e+18      1       NaN       NaN        NaN   \n",
       "4  10101088801601002    1.010109e+18      1       NaN       NaN        NaN   \n",
       "\n",
       "   hh_s1q04b  hh_s1q04h  hh_s1q05  \n",
       "0        NaN        NaN       0.0  \n",
       "1        NaN        NaN       NaN  \n",
       "2        NaN        NaN       NaN  \n",
       "3        NaN        NaN       NaN  \n",
       "4        NaN        NaN       NaN  "
      ]
     },
     "execution_count": 18,
     "metadata": {},
     "output_type": "execute_result"
    }
   ],
   "source": [
    "sect1_hh = pd.read_csv(\"C:\\\\Users\\\\ntawi\\\\Desktop\\\\C_csvfiles\\\\sect1_hh_w3.csv\" , \n",
    "                       usecols=['household_id2', 'individual_id2', 'saq01', 'hh_s1q02', \n",
    "                                'hh_s1q03', 'hh_s1q04a', 'hh_s1q04b', 'hh_s1q04h', 'hh_s1q05'])\n",
    "sect1_hh.head()"
   ]
  },
  {
   "cell_type": "code",
   "execution_count": 19,
   "metadata": {},
   "outputs": [
    {
     "data": {
      "text/html": [
       "<div>\n",
       "<style>\n",
       "    .dataframe thead tr:only-child th {\n",
       "        text-align: right;\n",
       "    }\n",
       "\n",
       "    .dataframe thead th {\n",
       "        text-align: left;\n",
       "    }\n",
       "\n",
       "    .dataframe tbody tr th {\n",
       "        vertical-align: top;\n",
       "    }\n",
       "</style>\n",
       "<table border=\"1\" class=\"dataframe\">\n",
       "  <thead>\n",
       "    <tr style=\"text-align: right;\">\n",
       "      <th></th>\n",
       "      <th>household_id2</th>\n",
       "      <th>individual_id2</th>\n",
       "      <th>saq01</th>\n",
       "      <th>saq03</th>\n",
       "      <th>hh_s2q05</th>\n",
       "    </tr>\n",
       "  </thead>\n",
       "  <tbody>\n",
       "    <tr>\n",
       "      <th>0</th>\n",
       "      <td>10101088801601002</td>\n",
       "      <td>1.010109e+18</td>\n",
       "      <td>1</td>\n",
       "      <td>1</td>\n",
       "      <td>NaN</td>\n",
       "    </tr>\n",
       "    <tr>\n",
       "      <th>1</th>\n",
       "      <td>10101088801601017</td>\n",
       "      <td>1.010109e+18</td>\n",
       "      <td>1</td>\n",
       "      <td>1</td>\n",
       "      <td>NaN</td>\n",
       "    </tr>\n",
       "    <tr>\n",
       "      <th>2</th>\n",
       "      <td>10101088801601017</td>\n",
       "      <td>1.010109e+18</td>\n",
       "      <td>1</td>\n",
       "      <td>1</td>\n",
       "      <td>NaN</td>\n",
       "    </tr>\n",
       "    <tr>\n",
       "      <th>3</th>\n",
       "      <td>10101088801601017</td>\n",
       "      <td>1.010109e+18</td>\n",
       "      <td>1</td>\n",
       "      <td>1</td>\n",
       "      <td>NaN</td>\n",
       "    </tr>\n",
       "    <tr>\n",
       "      <th>4</th>\n",
       "      <td>10101088801601017</td>\n",
       "      <td>1.010109e+18</td>\n",
       "      <td>1</td>\n",
       "      <td>1</td>\n",
       "      <td>2.0</td>\n",
       "    </tr>\n",
       "  </tbody>\n",
       "</table>\n",
       "</div>"
      ],
      "text/plain": [
       "       household_id2  individual_id2  saq01  saq03  hh_s2q05\n",
       "0  10101088801601002    1.010109e+18      1      1       NaN\n",
       "1  10101088801601017    1.010109e+18      1      1       NaN\n",
       "2  10101088801601017    1.010109e+18      1      1       NaN\n",
       "3  10101088801601017    1.010109e+18      1      1       NaN\n",
       "4  10101088801601017    1.010109e+18      1      1       2.0"
      ]
     },
     "execution_count": 19,
     "metadata": {},
     "output_type": "execute_result"
    }
   ],
   "source": [
    "sect2_hh = pd.read_csv(\"C:\\\\Users\\\\ntawi\\\\Desktop\\\\C_csvfiles\\\\sect2_hh_w3.csv\" , \n",
    "                       usecols=['household_id2', 'individual_id2', 'saq01', 'saq03', 'hh_s2q05'])\n",
    "sect2_hh.head()"
   ]
  },
  {
   "cell_type": "code",
   "execution_count": 20,
   "metadata": {},
   "outputs": [
    {
     "data": {
      "text/html": [
       "<div>\n",
       "<style>\n",
       "    .dataframe thead tr:only-child th {\n",
       "        text-align: right;\n",
       "    }\n",
       "\n",
       "    .dataframe thead th {\n",
       "        text-align: left;\n",
       "    }\n",
       "\n",
       "    .dataframe tbody tr th {\n",
       "        vertical-align: top;\n",
       "    }\n",
       "</style>\n",
       "<table border=\"1\" class=\"dataframe\">\n",
       "  <thead>\n",
       "    <tr style=\"text-align: right;\">\n",
       "      <th></th>\n",
       "      <th>household_id2</th>\n",
       "      <th>saq01</th>\n",
       "      <th>hh_s4q02_a</th>\n",
       "      <th>hh_s4q04</th>\n",
       "      <th>hh_s4q06</th>\n",
       "    </tr>\n",
       "  </thead>\n",
       "  <tbody>\n",
       "    <tr>\n",
       "      <th>0</th>\n",
       "      <td>10101088801601002</td>\n",
       "      <td>1</td>\n",
       "      <td>0.0</td>\n",
       "      <td>0.0</td>\n",
       "      <td>0.0</td>\n",
       "    </tr>\n",
       "    <tr>\n",
       "      <th>1</th>\n",
       "      <td>10101088801601017</td>\n",
       "      <td>1</td>\n",
       "      <td>0.0</td>\n",
       "      <td>0.0</td>\n",
       "      <td>0.0</td>\n",
       "    </tr>\n",
       "    <tr>\n",
       "      <th>2</th>\n",
       "      <td>10101088801601017</td>\n",
       "      <td>1</td>\n",
       "      <td>0.0</td>\n",
       "      <td>0.0</td>\n",
       "      <td>0.0</td>\n",
       "    </tr>\n",
       "    <tr>\n",
       "      <th>3</th>\n",
       "      <td>10101088801601017</td>\n",
       "      <td>1</td>\n",
       "      <td>0.0</td>\n",
       "      <td>4.0</td>\n",
       "      <td>0.0</td>\n",
       "    </tr>\n",
       "    <tr>\n",
       "      <th>4</th>\n",
       "      <td>10101088801601017</td>\n",
       "      <td>1</td>\n",
       "      <td>0.0</td>\n",
       "      <td>0.0</td>\n",
       "      <td>0.0</td>\n",
       "    </tr>\n",
       "  </tbody>\n",
       "</table>\n",
       "</div>"
      ],
      "text/plain": [
       "       household_id2  saq01  hh_s4q02_a  hh_s4q04  hh_s4q06\n",
       "0  10101088801601002      1         0.0       0.0       0.0\n",
       "1  10101088801601017      1         0.0       0.0       0.0\n",
       "2  10101088801601017      1         0.0       0.0       0.0\n",
       "3  10101088801601017      1         0.0       4.0       0.0\n",
       "4  10101088801601017      1         0.0       0.0       0.0"
      ]
     },
     "execution_count": 20,
     "metadata": {},
     "output_type": "execute_result"
    }
   ],
   "source": [
    "sect4_hh = pd.read_csv(\"C:\\\\Users\\\\ntawi\\\\Desktop\\\\C_csvfiles\\\\sect4_hh_w3.csv\", \n",
    "                       usecols=['household_id2', 'saq01', 'hh_s4q02_a', 'hh_s4q04', \n",
    "                                'hh_s4q06'])\n",
    "sect4_hh.head()   "
   ]
  },
  {
   "cell_type": "code",
   "execution_count": 21,
   "metadata": {
    "collapsed": true
   },
   "outputs": [],
   "source": [
    "##Rename selected columns"
   ]
  },
  {
   "cell_type": "code",
   "execution_count": 22,
   "metadata": {},
   "outputs": [
    {
     "data": {
      "text/html": [
       "<div>\n",
       "<style>\n",
       "    .dataframe thead tr:only-child th {\n",
       "        text-align: right;\n",
       "    }\n",
       "\n",
       "    .dataframe thead th {\n",
       "        text-align: left;\n",
       "    }\n",
       "\n",
       "    .dataframe tbody tr th {\n",
       "        vertical-align: top;\n",
       "    }\n",
       "</style>\n",
       "<table border=\"1\" class=\"dataframe\">\n",
       "  <thead>\n",
       "    <tr style=\"text-align: right;\">\n",
       "      <th></th>\n",
       "      <th>household_id2</th>\n",
       "      <th>individual_id2</th>\n",
       "      <th>region_code</th>\n",
       "      <th>hh_member_relationship</th>\n",
       "      <th>sex_of_hh_member</th>\n",
       "      <th>age_of_hh_member</th>\n",
       "      <th>age_of_hh_member_months</th>\n",
       "      <th>age_of_hh_member_corr</th>\n",
       "      <th>hh_member_away</th>\n",
       "    </tr>\n",
       "  </thead>\n",
       "  <tbody>\n",
       "    <tr>\n",
       "      <th>0</th>\n",
       "      <td>10101088801601002</td>\n",
       "      <td>1.010109e+18</td>\n",
       "      <td>1</td>\n",
       "      <td>1.0</td>\n",
       "      <td>2.0</td>\n",
       "      <td>79.0</td>\n",
       "      <td>NaN</td>\n",
       "      <td>NaN</td>\n",
       "      <td>0.0</td>\n",
       "    </tr>\n",
       "    <tr>\n",
       "      <th>1</th>\n",
       "      <td>10101088801601002</td>\n",
       "      <td>1.010109e+18</td>\n",
       "      <td>1</td>\n",
       "      <td>NaN</td>\n",
       "      <td>NaN</td>\n",
       "      <td>NaN</td>\n",
       "      <td>NaN</td>\n",
       "      <td>NaN</td>\n",
       "      <td>NaN</td>\n",
       "    </tr>\n",
       "    <tr>\n",
       "      <th>2</th>\n",
       "      <td>10101088801601002</td>\n",
       "      <td>1.010109e+18</td>\n",
       "      <td>1</td>\n",
       "      <td>NaN</td>\n",
       "      <td>NaN</td>\n",
       "      <td>NaN</td>\n",
       "      <td>NaN</td>\n",
       "      <td>NaN</td>\n",
       "      <td>NaN</td>\n",
       "    </tr>\n",
       "    <tr>\n",
       "      <th>3</th>\n",
       "      <td>10101088801601002</td>\n",
       "      <td>1.010109e+18</td>\n",
       "      <td>1</td>\n",
       "      <td>NaN</td>\n",
       "      <td>NaN</td>\n",
       "      <td>NaN</td>\n",
       "      <td>NaN</td>\n",
       "      <td>NaN</td>\n",
       "      <td>NaN</td>\n",
       "    </tr>\n",
       "    <tr>\n",
       "      <th>4</th>\n",
       "      <td>10101088801601002</td>\n",
       "      <td>1.010109e+18</td>\n",
       "      <td>1</td>\n",
       "      <td>NaN</td>\n",
       "      <td>NaN</td>\n",
       "      <td>NaN</td>\n",
       "      <td>NaN</td>\n",
       "      <td>NaN</td>\n",
       "      <td>NaN</td>\n",
       "    </tr>\n",
       "  </tbody>\n",
       "</table>\n",
       "</div>"
      ],
      "text/plain": [
       "       household_id2  individual_id2  region_code  hh_member_relationship  \\\n",
       "0  10101088801601002    1.010109e+18            1                     1.0   \n",
       "1  10101088801601002    1.010109e+18            1                     NaN   \n",
       "2  10101088801601002    1.010109e+18            1                     NaN   \n",
       "3  10101088801601002    1.010109e+18            1                     NaN   \n",
       "4  10101088801601002    1.010109e+18            1                     NaN   \n",
       "\n",
       "   sex_of_hh_member  age_of_hh_member  age_of_hh_member_months  \\\n",
       "0               2.0              79.0                      NaN   \n",
       "1               NaN               NaN                      NaN   \n",
       "2               NaN               NaN                      NaN   \n",
       "3               NaN               NaN                      NaN   \n",
       "4               NaN               NaN                      NaN   \n",
       "\n",
       "   age_of_hh_member_corr  hh_member_away  \n",
       "0                    NaN             0.0  \n",
       "1                    NaN             NaN  \n",
       "2                    NaN             NaN  \n",
       "3                    NaN             NaN  \n",
       "4                    NaN             NaN  "
      ]
     },
     "execution_count": 22,
     "metadata": {},
     "output_type": "execute_result"
    }
   ],
   "source": [
    "sect1_hh.rename(columns={'household_id2': 'household_id2', 'individual_id2': 'individual_id2', 'saq01' : 'region_code', \n",
    "                         'hh_s1q02' : 'hh_member_relationship','hh_s1q03': 'sex_of_hh_member','hh_s1q04a': 'age_of_hh_member', \n",
    "                         'hh_s1q04b': 'age_of_hh_member_months', 'hh_s1q04h': 'age_of_hh_member_corr','hh_s1q05': 'hh_member_away', }, \n",
    "                inplace=True)\n",
    "sect1_hh.head()"
   ]
  },
  {
   "cell_type": "code",
   "execution_count": 23,
   "metadata": {},
   "outputs": [
    {
     "data": {
      "text/html": [
       "<div>\n",
       "<style>\n",
       "    .dataframe thead tr:only-child th {\n",
       "        text-align: right;\n",
       "    }\n",
       "\n",
       "    .dataframe thead th {\n",
       "        text-align: left;\n",
       "    }\n",
       "\n",
       "    .dataframe tbody tr th {\n",
       "        vertical-align: top;\n",
       "    }\n",
       "</style>\n",
       "<table border=\"1\" class=\"dataframe\">\n",
       "  <thead>\n",
       "    <tr style=\"text-align: right;\">\n",
       "      <th></th>\n",
       "      <th>household_id2</th>\n",
       "      <th>individual_id2</th>\n",
       "      <th>region_code</th>\n",
       "      <th>woreda_code</th>\n",
       "      <th>Highest_Grade_Completed</th>\n",
       "    </tr>\n",
       "  </thead>\n",
       "  <tbody>\n",
       "    <tr>\n",
       "      <th>0</th>\n",
       "      <td>10101088801601002</td>\n",
       "      <td>1.010109e+18</td>\n",
       "      <td>1</td>\n",
       "      <td>1</td>\n",
       "      <td>NaN</td>\n",
       "    </tr>\n",
       "    <tr>\n",
       "      <th>1</th>\n",
       "      <td>10101088801601017</td>\n",
       "      <td>1.010109e+18</td>\n",
       "      <td>1</td>\n",
       "      <td>1</td>\n",
       "      <td>NaN</td>\n",
       "    </tr>\n",
       "    <tr>\n",
       "      <th>2</th>\n",
       "      <td>10101088801601017</td>\n",
       "      <td>1.010109e+18</td>\n",
       "      <td>1</td>\n",
       "      <td>1</td>\n",
       "      <td>NaN</td>\n",
       "    </tr>\n",
       "    <tr>\n",
       "      <th>3</th>\n",
       "      <td>10101088801601017</td>\n",
       "      <td>1.010109e+18</td>\n",
       "      <td>1</td>\n",
       "      <td>1</td>\n",
       "      <td>NaN</td>\n",
       "    </tr>\n",
       "    <tr>\n",
       "      <th>4</th>\n",
       "      <td>10101088801601017</td>\n",
       "      <td>1.010109e+18</td>\n",
       "      <td>1</td>\n",
       "      <td>1</td>\n",
       "      <td>2.0</td>\n",
       "    </tr>\n",
       "  </tbody>\n",
       "</table>\n",
       "</div>"
      ],
      "text/plain": [
       "       household_id2  individual_id2  region_code  woreda_code  \\\n",
       "0  10101088801601002    1.010109e+18            1            1   \n",
       "1  10101088801601017    1.010109e+18            1            1   \n",
       "2  10101088801601017    1.010109e+18            1            1   \n",
       "3  10101088801601017    1.010109e+18            1            1   \n",
       "4  10101088801601017    1.010109e+18            1            1   \n",
       "\n",
       "   Highest_Grade_Completed  \n",
       "0                      NaN  \n",
       "1                      NaN  \n",
       "2                      NaN  \n",
       "3                      NaN  \n",
       "4                      2.0  "
      ]
     },
     "execution_count": 23,
     "metadata": {},
     "output_type": "execute_result"
    }
   ],
   "source": [
    "sect2_hh.rename(columns={'household_id2': 'household_id2', 'individual_id2': 'individual_id2', 'saq01' : 'region_code', \n",
    "                         'saq03' : 'woreda_code', 'hh_s2q05' : 'Highest_Grade_Completed', }, inplace=True)\n",
    "sect2_hh.head()"
   ]
  },
  {
   "cell_type": "code",
   "execution_count": 24,
   "metadata": {},
   "outputs": [
    {
     "data": {
      "text/html": [
       "<div>\n",
       "<style>\n",
       "    .dataframe thead tr:only-child th {\n",
       "        text-align: right;\n",
       "    }\n",
       "\n",
       "    .dataframe thead th {\n",
       "        text-align: left;\n",
       "    }\n",
       "\n",
       "    .dataframe tbody tr th {\n",
       "        vertical-align: top;\n",
       "    }\n",
       "</style>\n",
       "<table border=\"1\" class=\"dataframe\">\n",
       "  <thead>\n",
       "    <tr style=\"text-align: right;\">\n",
       "      <th></th>\n",
       "      <th>household_id2</th>\n",
       "      <th>region_code</th>\n",
       "      <th>hours_per_week_collect_water</th>\n",
       "      <th>hours_per_week_agg</th>\n",
       "      <th>hours_per_week_other_jobs</th>\n",
       "    </tr>\n",
       "  </thead>\n",
       "  <tbody>\n",
       "    <tr>\n",
       "      <th>0</th>\n",
       "      <td>10101088801601002</td>\n",
       "      <td>1</td>\n",
       "      <td>0.0</td>\n",
       "      <td>0.0</td>\n",
       "      <td>0.0</td>\n",
       "    </tr>\n",
       "    <tr>\n",
       "      <th>1</th>\n",
       "      <td>10101088801601017</td>\n",
       "      <td>1</td>\n",
       "      <td>0.0</td>\n",
       "      <td>0.0</td>\n",
       "      <td>0.0</td>\n",
       "    </tr>\n",
       "    <tr>\n",
       "      <th>2</th>\n",
       "      <td>10101088801601017</td>\n",
       "      <td>1</td>\n",
       "      <td>0.0</td>\n",
       "      <td>0.0</td>\n",
       "      <td>0.0</td>\n",
       "    </tr>\n",
       "    <tr>\n",
       "      <th>3</th>\n",
       "      <td>10101088801601017</td>\n",
       "      <td>1</td>\n",
       "      <td>0.0</td>\n",
       "      <td>4.0</td>\n",
       "      <td>0.0</td>\n",
       "    </tr>\n",
       "    <tr>\n",
       "      <th>4</th>\n",
       "      <td>10101088801601017</td>\n",
       "      <td>1</td>\n",
       "      <td>0.0</td>\n",
       "      <td>0.0</td>\n",
       "      <td>0.0</td>\n",
       "    </tr>\n",
       "  </tbody>\n",
       "</table>\n",
       "</div>"
      ],
      "text/plain": [
       "       household_id2  region_code  hours_per_week_collect_water  \\\n",
       "0  10101088801601002            1                           0.0   \n",
       "1  10101088801601017            1                           0.0   \n",
       "2  10101088801601017            1                           0.0   \n",
       "3  10101088801601017            1                           0.0   \n",
       "4  10101088801601017            1                           0.0   \n",
       "\n",
       "   hours_per_week_agg  hours_per_week_other_jobs  \n",
       "0                 0.0                        0.0  \n",
       "1                 0.0                        0.0  \n",
       "2                 0.0                        0.0  \n",
       "3                 4.0                        0.0  \n",
       "4                 0.0                        0.0  "
      ]
     },
     "execution_count": 24,
     "metadata": {},
     "output_type": "execute_result"
    }
   ],
   "source": [
    "sect4_hh.rename(columns={'household_id2': 'household_id2', 'individual_id2': 'individual_id2', 'saq01' : 'region_code', \n",
    "                                'hh_s4q02_a' : 'hours_per_week_collect_water', 'hh_s4q04' : 'hours_per_week_agg', \n",
    "                                'hh_s4q06' : 'hours_per_week_other_jobs'}, \n",
    "                inplace=True)\n",
    "sect4_hh.head()"
   ]
  },
  {
   "cell_type": "markdown",
   "metadata": {
    "collapsed": true
   },
   "source": [
    "##Merge selected renamed columns"
   ]
  },
  {
   "cell_type": "code",
   "execution_count": 25,
   "metadata": {},
   "outputs": [
    {
     "data": {
      "text/html": [
       "<div>\n",
       "<style>\n",
       "    .dataframe thead tr:only-child th {\n",
       "        text-align: right;\n",
       "    }\n",
       "\n",
       "    .dataframe thead th {\n",
       "        text-align: left;\n",
       "    }\n",
       "\n",
       "    .dataframe tbody tr th {\n",
       "        vertical-align: top;\n",
       "    }\n",
       "</style>\n",
       "<table border=\"1\" class=\"dataframe\">\n",
       "  <thead>\n",
       "    <tr style=\"text-align: right;\">\n",
       "      <th></th>\n",
       "      <th>household_id2</th>\n",
       "      <th>individual_id2</th>\n",
       "      <th>region_code_x</th>\n",
       "      <th>hh_member_relationship</th>\n",
       "      <th>sex_of_hh_member</th>\n",
       "      <th>age_of_hh_member</th>\n",
       "      <th>age_of_hh_member_months</th>\n",
       "      <th>age_of_hh_member_corr</th>\n",
       "      <th>hh_member_away</th>\n",
       "      <th>region_code_y</th>\n",
       "      <th>woreda_code</th>\n",
       "      <th>Highest_Grade_Completed</th>\n",
       "      <th>region_code</th>\n",
       "      <th>hours_per_week_collect_water</th>\n",
       "      <th>hours_per_week_agg</th>\n",
       "      <th>hours_per_week_other_jobs</th>\n",
       "    </tr>\n",
       "  </thead>\n",
       "  <tbody>\n",
       "    <tr>\n",
       "      <th>0</th>\n",
       "      <td>10101088801601002</td>\n",
       "      <td>1.010109e+18</td>\n",
       "      <td>1</td>\n",
       "      <td>1.0</td>\n",
       "      <td>2.0</td>\n",
       "      <td>79.0</td>\n",
       "      <td>NaN</td>\n",
       "      <td>NaN</td>\n",
       "      <td>0.0</td>\n",
       "      <td>1</td>\n",
       "      <td>1</td>\n",
       "      <td>NaN</td>\n",
       "      <td>1</td>\n",
       "      <td>0.0</td>\n",
       "      <td>0.0</td>\n",
       "      <td>0.0</td>\n",
       "    </tr>\n",
       "    <tr>\n",
       "      <th>1</th>\n",
       "      <td>10101088801601002</td>\n",
       "      <td>1.010109e+18</td>\n",
       "      <td>1</td>\n",
       "      <td>NaN</td>\n",
       "      <td>NaN</td>\n",
       "      <td>NaN</td>\n",
       "      <td>NaN</td>\n",
       "      <td>NaN</td>\n",
       "      <td>NaN</td>\n",
       "      <td>1</td>\n",
       "      <td>1</td>\n",
       "      <td>NaN</td>\n",
       "      <td>1</td>\n",
       "      <td>0.0</td>\n",
       "      <td>0.0</td>\n",
       "      <td>0.0</td>\n",
       "    </tr>\n",
       "    <tr>\n",
       "      <th>2</th>\n",
       "      <td>10101088801601002</td>\n",
       "      <td>1.010109e+18</td>\n",
       "      <td>1</td>\n",
       "      <td>NaN</td>\n",
       "      <td>NaN</td>\n",
       "      <td>NaN</td>\n",
       "      <td>NaN</td>\n",
       "      <td>NaN</td>\n",
       "      <td>NaN</td>\n",
       "      <td>1</td>\n",
       "      <td>1</td>\n",
       "      <td>NaN</td>\n",
       "      <td>1</td>\n",
       "      <td>0.0</td>\n",
       "      <td>0.0</td>\n",
       "      <td>0.0</td>\n",
       "    </tr>\n",
       "    <tr>\n",
       "      <th>3</th>\n",
       "      <td>10101088801601002</td>\n",
       "      <td>1.010109e+18</td>\n",
       "      <td>1</td>\n",
       "      <td>NaN</td>\n",
       "      <td>NaN</td>\n",
       "      <td>NaN</td>\n",
       "      <td>NaN</td>\n",
       "      <td>NaN</td>\n",
       "      <td>NaN</td>\n",
       "      <td>1</td>\n",
       "      <td>1</td>\n",
       "      <td>NaN</td>\n",
       "      <td>1</td>\n",
       "      <td>0.0</td>\n",
       "      <td>0.0</td>\n",
       "      <td>0.0</td>\n",
       "    </tr>\n",
       "    <tr>\n",
       "      <th>4</th>\n",
       "      <td>10101088801601002</td>\n",
       "      <td>1.010109e+18</td>\n",
       "      <td>1</td>\n",
       "      <td>NaN</td>\n",
       "      <td>NaN</td>\n",
       "      <td>NaN</td>\n",
       "      <td>NaN</td>\n",
       "      <td>NaN</td>\n",
       "      <td>NaN</td>\n",
       "      <td>1</td>\n",
       "      <td>1</td>\n",
       "      <td>NaN</td>\n",
       "      <td>1</td>\n",
       "      <td>0.0</td>\n",
       "      <td>0.0</td>\n",
       "      <td>0.0</td>\n",
       "    </tr>\n",
       "  </tbody>\n",
       "</table>\n",
       "</div>"
      ],
      "text/plain": [
       "       household_id2  individual_id2  region_code_x  hh_member_relationship  \\\n",
       "0  10101088801601002    1.010109e+18              1                     1.0   \n",
       "1  10101088801601002    1.010109e+18              1                     NaN   \n",
       "2  10101088801601002    1.010109e+18              1                     NaN   \n",
       "3  10101088801601002    1.010109e+18              1                     NaN   \n",
       "4  10101088801601002    1.010109e+18              1                     NaN   \n",
       "\n",
       "   sex_of_hh_member  age_of_hh_member  age_of_hh_member_months  \\\n",
       "0               2.0              79.0                      NaN   \n",
       "1               NaN               NaN                      NaN   \n",
       "2               NaN               NaN                      NaN   \n",
       "3               NaN               NaN                      NaN   \n",
       "4               NaN               NaN                      NaN   \n",
       "\n",
       "   age_of_hh_member_corr  hh_member_away  region_code_y  woreda_code  \\\n",
       "0                    NaN             0.0              1            1   \n",
       "1                    NaN             NaN              1            1   \n",
       "2                    NaN             NaN              1            1   \n",
       "3                    NaN             NaN              1            1   \n",
       "4                    NaN             NaN              1            1   \n",
       "\n",
       "   Highest_Grade_Completed  region_code  hours_per_week_collect_water  \\\n",
       "0                      NaN            1                           0.0   \n",
       "1                      NaN            1                           0.0   \n",
       "2                      NaN            1                           0.0   \n",
       "3                      NaN            1                           0.0   \n",
       "4                      NaN            1                           0.0   \n",
       "\n",
       "   hours_per_week_agg  hours_per_week_other_jobs  \n",
       "0                 0.0                        0.0  \n",
       "1                 0.0                        0.0  \n",
       "2                 0.0                        0.0  \n",
       "3                 0.0                        0.0  \n",
       "4                 0.0                        0.0  "
      ]
     },
     "execution_count": 25,
     "metadata": {},
     "output_type": "execute_result"
    }
   ],
   "source": [
    "Merged_s124= pd.merge(pd.merge(sect1_hh, sect2_hh, how = \"right\", on = ['household_id2', 'individual_id2']),sect4_hh)\n",
    "Merged_s124.head()"
   ]
  },
  {
   "cell_type": "markdown",
   "metadata": {},
   "source": [
    "##Compute total number of hours"
   ]
  },
  {
   "cell_type": "code",
   "execution_count": 26,
   "metadata": {
    "collapsed": true
   },
   "outputs": [],
   "source": [
    "Merged_s124 = Merged_s124.assign(total_hours = lambda x: sum([sect4_hh[\"hours_per_week_agg\"], \n",
    "                                                        sect4_hh[\"hours_per_week_collect_water\"],\n",
    "                                                  sect4_hh[\"hours_per_week_other_jobs\"]]))"
   ]
  },
  {
   "cell_type": "markdown",
   "metadata": {},
   "source": [
    "##Visualization\n",
    "##Univariate Distribution"
   ]
  },
  {
   "cell_type": "code",
   "execution_count": 27,
   "metadata": {},
   "outputs": [
    {
     "data": {
      "text/plain": [
       "<matplotlib.axes._subplots.AxesSubplot at 0x22ad5576c18>"
      ]
     },
     "execution_count": 27,
     "metadata": {},
     "output_type": "execute_result"
    },
    {
     "data": {
      "image/png": "[encoded data removed]",
      "text/plain": [
       "<matplotlib.figure.Figure at 0x22ad5554240>"
      ]
     },
     "metadata": {},
     "output_type": "display_data"
    }
   ],
   "source": [
    "Merged_s124[\"age_of_hh_member\"].hist()"
   ]
  },
  {
   "cell_type": "code",
   "execution_count": 28,
   "metadata": {},
   "outputs": [
    {
     "data": {
      "text/plain": [
       "<matplotlib.axes._subplots.AxesSubplot at 0x22ad59bac88>"
      ]
     },
     "execution_count": 28,
     "metadata": {},
     "output_type": "execute_result"
    },
    {
     "data": {
      "image/png": "[encoded data removed]",
      "text/plain": [
       "<matplotlib.figure.Figure at 0x22ad59b5518>"
      ]
     },
     "metadata": {},
     "output_type": "display_data"
    }
   ],
   "source": [
    "Merged_s124[\"Highest_Grade_Completed\"].hist()"
   ]
  },
  {
   "cell_type": "code",
   "execution_count": 29,
   "metadata": {},
   "outputs": [
    {
     "data": {
      "text/plain": [
       "<matplotlib.axes._subplots.AxesSubplot at 0x22ad5a65e80>"
      ]
     },
     "execution_count": 29,
     "metadata": {},
     "output_type": "execute_result"
    },
    {
     "data": {
      "image/png": "[encoded data removed]",
      "text/plain": [
       "<matplotlib.figure.Figure at 0x22ad59fbb70>"
      ]
     },
     "metadata": {},
     "output_type": "display_data"
    }
   ],
   "source": [
    "Merged_s124[\"total_hours\"].hist()"
   ]
  },
  {
   "cell_type": "markdown",
   "metadata": {},
   "source": [
    "##Run regression models"
   ]
  },
  {
   "cell_type": "code",
   "execution_count": 30,
   "metadata": {},
   "outputs": [
    {
     "data": {
      "image/png": "[encoded data removed]",
      "text/plain": [
       "<matplotlib.figure.Figure at 0x22ad5b435f8>"
      ]
     },
     "metadata": {},
     "output_type": "display_data"
    }
   ],
   "source": [
    "sns.jointplot(x=\"age_of_hh_member\", y=\"total_hours\", data=Merged_s124, kind=\"reg\");"
   ]
  },
  {
   "cell_type": "code",
   "execution_count": 31,
   "metadata": {},
   "outputs": [
    {
     "data": {
      "image/png": "[encoded data removed]",
      "text/plain": [
       "<matplotlib.figure.Figure at 0x22ad5b6c320>"
      ]
     },
     "metadata": {},
     "output_type": "display_data"
    }
   ],
   "source": [
    "sns.regplot(x=\"age_of_hh_member\", y=\"total_hours\", data=Merged_s124);"
   ]
  },
  {
   "cell_type": "markdown",
   "metadata": {},
   "source": [
    "##Run scatterplot\n",
    "##Bivariate distribution"
   ]
  },
  {
   "cell_type": "code",
   "execution_count": 32,
   "metadata": {},
   "outputs": [
    {
     "data": {
      "text/plain": [
       "<seaborn.axisgrid.JointGrid at 0x22ad5fbf438>"
      ]
     },
     "execution_count": 32,
     "metadata": {},
     "output_type": "execute_result"
    },
    {
     "data": {
      "image/png": "[encoded data removed]",
      "text/plain": [
       "<matplotlib.figure.Figure at 0x22ad5fa3240>"
      ]
     },
     "metadata": {},
     "output_type": "display_data"
    }
   ],
   "source": [
    "sns.jointplot(x=\"age_of_hh_member\", y=\"total_hours\", data=Merged_s124)"
   ]
  },
  {
   "cell_type": "markdown",
   "metadata": {
    "collapsed": true
   },
   "source": [
    "##Compute age groups"
   ]
  },
  {
   "cell_type": "code",
   "execution_count": 33,
   "metadata": {
    "collapsed": true
   },
   "outputs": [],
   "source": [
    "age_bins=[0, 15, 30, 45, 60, 90]\n",
    "bin_names = [\"0-15\", \"15-30\", \"31-45\", \"45-60\", \"60+\"]"
   ]
  },
  {
   "cell_type": "code",
   "execution_count": 34,
   "metadata": {
    "collapsed": true
   },
   "outputs": [],
   "source": [
    "age_group = Merged_s124[\"age_of_hh_member\"]\n",
    "age_group = age_group.astype(\"category\", copy=False)\n",
    "age_group = pd.cut(age_group, age_bins, labels=bin_names)"
   ]
  },
  {
   "cell_type": "code",
   "execution_count": 35,
   "metadata": {},
   "outputs": [
    {
     "data": {
      "text/plain": [
       "0    60+\n",
       "1    NaN\n",
       "2    NaN\n",
       "3    NaN\n",
       "4    NaN\n",
       "Name: age_of_hh_member, dtype: category\n",
       "Categories (5, object): [0-15 < 15-30 < 31-45 < 45-60 < 60+]"
      ]
     },
     "execution_count": 35,
     "metadata": {},
     "output_type": "execute_result"
    }
   ],
   "source": [
    "age_group.head()"
   ]
  },
  {
   "cell_type": "markdown",
   "metadata": {
    "collapsed": true
   },
   "source": [
    "##Compute years of education "
   ]
  },
  {
   "cell_type": "code",
   "execution_count": 36,
   "metadata": {
    "collapsed": true
   },
   "outputs": [],
   "source": [
    "education_bins=[0, 7, 13, 21, 31, 35, 93, 98 ]\n",
    "bin_names = [\"0-6_grade\", \"7-12_highschool\", \"13-20_some_college\", \"21-30_certificate\", \"31-35_college\",\n",
    "            \"93-96_basic_edu\", \"98-99_no_education\"]\n",
    "\n",
    "yr_of_edu = Merged_s124[\"Highest_Grade_Completed\"]\n",
    "yr_of_edu = yr_of_edu.astype(\"category\", copy=False)\n",
    "yr_of_edu = pd.cut( yr_of_edu, education_bins, labels=bin_names)"
   ]
  },
  {
   "cell_type": "code",
   "execution_count": 37,
   "metadata": {},
   "outputs": [
    {
     "data": {
      "text/plain": [
       "0    NaN\n",
       "1    NaN\n",
       "2    NaN\n",
       "3    NaN\n",
       "4    NaN\n",
       "Name: Highest_Grade_Completed, dtype: category\n",
       "Categories (7, object): [0-6_grade < 7-12_highschool < 13-20_some_college < 21-30_certificate < 31-35_college < 93-96_basic_edu < 98-99_no_education]"
      ]
     },
     "execution_count": 37,
     "metadata": {},
     "output_type": "execute_result"
    }
   ],
   "source": [
    "yr_of_edu.head()"
   ]
  },
  {
   "cell_type": "code",
   "execution_count": 38,
   "metadata": {},
   "outputs": [
    {
     "data": {
      "text/html": [
       "<div>\n",
       "<style>\n",
       "    .dataframe thead tr:only-child th {\n",
       "        text-align: right;\n",
       "    }\n",
       "\n",
       "    .dataframe thead th {\n",
       "        text-align: left;\n",
       "    }\n",
       "\n",
       "    .dataframe tbody tr th {\n",
       "        vertical-align: top;\n",
       "    }\n",
       "</style>\n",
       "<table border=\"1\" class=\"dataframe\">\n",
       "  <thead>\n",
       "    <tr style=\"text-align: right;\">\n",
       "      <th></th>\n",
       "      <th>household_id2</th>\n",
       "      <th>individual_id2</th>\n",
       "      <th>region_code_x</th>\n",
       "      <th>hh_member_relationship</th>\n",
       "      <th>sex_of_hh_member</th>\n",
       "      <th>age_of_hh_member</th>\n",
       "      <th>age_of_hh_member_months</th>\n",
       "      <th>age_of_hh_member_corr</th>\n",
       "      <th>hh_member_away</th>\n",
       "      <th>region_code_y</th>\n",
       "      <th>woreda_code</th>\n",
       "      <th>Highest_Grade_Completed</th>\n",
       "      <th>region_code</th>\n",
       "      <th>hours_per_week_collect_water</th>\n",
       "      <th>hours_per_week_agg</th>\n",
       "      <th>hours_per_week_other_jobs</th>\n",
       "      <th>total_hours</th>\n",
       "    </tr>\n",
       "  </thead>\n",
       "  <tbody>\n",
       "    <tr>\n",
       "      <th>0</th>\n",
       "      <td>10101088801601002</td>\n",
       "      <td>1.010109e+18</td>\n",
       "      <td>1</td>\n",
       "      <td>1.0</td>\n",
       "      <td>2.0</td>\n",
       "      <td>79.0</td>\n",
       "      <td>NaN</td>\n",
       "      <td>NaN</td>\n",
       "      <td>0.0</td>\n",
       "      <td>1</td>\n",
       "      <td>1</td>\n",
       "      <td>NaN</td>\n",
       "      <td>1</td>\n",
       "      <td>0.0</td>\n",
       "      <td>0.0</td>\n",
       "      <td>0.0</td>\n",
       "      <td>0.0</td>\n",
       "    </tr>\n",
       "    <tr>\n",
       "      <th>1</th>\n",
       "      <td>10101088801601002</td>\n",
       "      <td>1.010109e+18</td>\n",
       "      <td>1</td>\n",
       "      <td>NaN</td>\n",
       "      <td>NaN</td>\n",
       "      <td>NaN</td>\n",
       "      <td>NaN</td>\n",
       "      <td>NaN</td>\n",
       "      <td>NaN</td>\n",
       "      <td>1</td>\n",
       "      <td>1</td>\n",
       "      <td>NaN</td>\n",
       "      <td>1</td>\n",
       "      <td>0.0</td>\n",
       "      <td>0.0</td>\n",
       "      <td>0.0</td>\n",
       "      <td>0.0</td>\n",
       "    </tr>\n",
       "    <tr>\n",
       "      <th>2</th>\n",
       "      <td>10101088801601002</td>\n",
       "      <td>1.010109e+18</td>\n",
       "      <td>1</td>\n",
       "      <td>NaN</td>\n",
       "      <td>NaN</td>\n",
       "      <td>NaN</td>\n",
       "      <td>NaN</td>\n",
       "      <td>NaN</td>\n",
       "      <td>NaN</td>\n",
       "      <td>1</td>\n",
       "      <td>1</td>\n",
       "      <td>NaN</td>\n",
       "      <td>1</td>\n",
       "      <td>0.0</td>\n",
       "      <td>0.0</td>\n",
       "      <td>0.0</td>\n",
       "      <td>0.0</td>\n",
       "    </tr>\n",
       "    <tr>\n",
       "      <th>3</th>\n",
       "      <td>10101088801601002</td>\n",
       "      <td>1.010109e+18</td>\n",
       "      <td>1</td>\n",
       "      <td>NaN</td>\n",
       "      <td>NaN</td>\n",
       "      <td>NaN</td>\n",
       "      <td>NaN</td>\n",
       "      <td>NaN</td>\n",
       "      <td>NaN</td>\n",
       "      <td>1</td>\n",
       "      <td>1</td>\n",
       "      <td>NaN</td>\n",
       "      <td>1</td>\n",
       "      <td>0.0</td>\n",
       "      <td>0.0</td>\n",
       "      <td>0.0</td>\n",
       "      <td>4.0</td>\n",
       "    </tr>\n",
       "    <tr>\n",
       "      <th>4</th>\n",
       "      <td>10101088801601002</td>\n",
       "      <td>1.010109e+18</td>\n",
       "      <td>1</td>\n",
       "      <td>NaN</td>\n",
       "      <td>NaN</td>\n",
       "      <td>NaN</td>\n",
       "      <td>NaN</td>\n",
       "      <td>NaN</td>\n",
       "      <td>NaN</td>\n",
       "      <td>1</td>\n",
       "      <td>1</td>\n",
       "      <td>NaN</td>\n",
       "      <td>1</td>\n",
       "      <td>0.0</td>\n",
       "      <td>0.0</td>\n",
       "      <td>0.0</td>\n",
       "      <td>0.0</td>\n",
       "    </tr>\n",
       "  </tbody>\n",
       "</table>\n",
       "</div>"
      ],
      "text/plain": [
       "       household_id2  individual_id2  region_code_x  hh_member_relationship  \\\n",
       "0  10101088801601002    1.010109e+18              1                     1.0   \n",
       "1  10101088801601002    1.010109e+18              1                     NaN   \n",
       "2  10101088801601002    1.010109e+18              1                     NaN   \n",
       "3  10101088801601002    1.010109e+18              1                     NaN   \n",
       "4  10101088801601002    1.010109e+18              1                     NaN   \n",
       "\n",
       "   sex_of_hh_member  age_of_hh_member  age_of_hh_member_months  \\\n",
       "0               2.0              79.0                      NaN   \n",
       "1               NaN               NaN                      NaN   \n",
       "2               NaN               NaN                      NaN   \n",
       "3               NaN               NaN                      NaN   \n",
       "4               NaN               NaN                      NaN   \n",
       "\n",
       "   age_of_hh_member_corr  hh_member_away  region_code_y  woreda_code  \\\n",
       "0                    NaN             0.0              1            1   \n",
       "1                    NaN             NaN              1            1   \n",
       "2                    NaN             NaN              1            1   \n",
       "3                    NaN             NaN              1            1   \n",
       "4                    NaN             NaN              1            1   \n",
       "\n",
       "   Highest_Grade_Completed  region_code  hours_per_week_collect_water  \\\n",
       "0                      NaN            1                           0.0   \n",
       "1                      NaN            1                           0.0   \n",
       "2                      NaN            1                           0.0   \n",
       "3                      NaN            1                           0.0   \n",
       "4                      NaN            1                           0.0   \n",
       "\n",
       "   hours_per_week_agg  hours_per_week_other_jobs  total_hours  \n",
       "0                 0.0                        0.0          0.0  \n",
       "1                 0.0                        0.0          0.0  \n",
       "2                 0.0                        0.0          0.0  \n",
       "3                 0.0                        0.0          4.0  \n",
       "4                 0.0                        0.0          0.0  "
      ]
     },
     "execution_count": 38,
     "metadata": {},
     "output_type": "execute_result"
    }
   ],
   "source": [
    "Merged_s124.head()"
   ]
  },
  {
   "cell_type": "code",
   "execution_count": 39,
   "metadata": {},
   "outputs": [
    {
     "name": "stdout",
     "output_type": "stream",
     "text": [
      "<class 'pandas.core.frame.DataFrame'>\n",
      "Int64Index: 1065673 entries, 0 to 1065672\n",
      "Data columns (total 17 columns):\n",
      "household_id2                   1065673 non-null int64\n",
      "individual_id2                  1065673 non-null float64\n",
      "region_code_x                   1065673 non-null int64\n",
      "hh_member_relationship          983403 non-null float64\n",
      "sex_of_hh_member                1026057 non-null float64\n",
      "age_of_hh_member                958569 non-null float64\n",
      "age_of_hh_member_months         257208 non-null float64\n",
      "age_of_hh_member_corr           39129 non-null float64\n",
      "hh_member_away                  943158 non-null float64\n",
      "region_code_y                   1065673 non-null int64\n",
      "woreda_code                     1065673 non-null int64\n",
      "Highest_Grade_Completed         570975 non-null float64\n",
      "region_code                     1065673 non-null int64\n",
      "hours_per_week_collect_water    862843 non-null float64\n",
      "hours_per_week_agg              862843 non-null float64\n",
      "hours_per_week_other_jobs       862843 non-null float64\n",
      "total_hours                     19206 non-null float64\n",
      "dtypes: float64(12), int64(5)\n",
      "memory usage: 186.3 MB\n"
     ]
    }
   ],
   "source": [
    "Merged_s124.info()"
   ]
  },
  {
   "cell_type": "code",
   "execution_count": null,
   "metadata": {
    "collapsed": true
   },
   "outputs": [],
   "source": []
  }
 ],
 "metadata": {
  "kernelspec": {
   "display_name": "Python 3",
   "language": "python",
   "name": "python3"
  },
  "language_info": {
   "codemirror_mode": {
    "name": "ipython",
    "version": 3
   },
   "file_extension": ".py",
   "mimetype": "text/x-python",
   "name": "python",
   "nbconvert_exporter": "python",
   "pygments_lexer": "ipython3",
   "version": "3.6.1"
  }
 },
 "nbformat": 4,
 "nbformat_minor": 2
}
